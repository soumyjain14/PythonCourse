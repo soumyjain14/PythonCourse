{
 "cells": [
  {
   "cell_type": "code",
   "execution_count": null,
   "metadata": {},
   "outputs": [],
   "source": [
    "!pip install html5lib"
   ]
  },
  {
   "cell_type": "code",
   "execution_count": null,
   "metadata": {},
   "outputs": [],
   "source": [
    "from bs4 import BeautifulSoup as soup\n",
    "\n",
    "import requests\n",
    "\n",
    "url='https://www.passiton.com/inspirational-quotes'\n",
    "\n",
    "response=requests.get(url)\n",
    "\n",
    "website_soup=soup(response.content)\n",
    "\n",
    "website_images=website_soup.findAll(\"img\")\n",
    "\n",
    "website_images=website_images[2:]\n",
    "\n",
    "first_image=website_images[2]\n",
    "\n",
    "first_image_url=first_image.attrs['src']\n",
    "\n",
    "\n",
    "\n",
    "with open(\"first.jpg\",\"wb\") as file:\n",
    "    response1=requests.get(first_image_url)\n",
    "    \n",
    "    file.write(response1.content)\n",
    "    \n",
    "\n",
    "\n",
    "for index, data in enumerate(website_images[:-2]):\n",
    "    url=website_images[index].attrs['src']\n",
    "    with open(\"images{}.jpg\".format(index),\"wb\") as file:\n",
    "         response1=requests.get(url)\n",
    "         file.write(response1.content)   \n",
    "\n"
   ]
  },
  {
   "cell_type": "code",
   "execution_count": 1,
   "metadata": {},
   "outputs": [
    {
     "ename": "SyntaxError",
     "evalue": "invalid syntax (<ipython-input-1-ab6eee7c6bf7>, line 1)",
     "output_type": "error",
     "traceback": [
      "\u001b[1;36m  File \u001b[1;32m\"<ipython-input-1-ab6eee7c6bf7>\"\u001b[1;36m, line \u001b[1;32m1\u001b[0m\n\u001b[1;33m    loads for converting from string to dict\u001b[0m\n\u001b[1;37m          ^\u001b[0m\n\u001b[1;31mSyntaxError\u001b[0m\u001b[1;31m:\u001b[0m invalid syntax\n"
     ]
    }
   ],
   "source": [
    "loads for converting from string to dict\n",
    "dumps from converting from dict to string "
   ]
  },
  {
   "cell_type": "code",
   "execution_count": null,
   "metadata": {},
   "outputs": [],
   "source": []
  }
 ],
 "metadata": {
  "kernelspec": {
   "display_name": "Python 3",
   "language": "python",
   "name": "python3"
  },
  "language_info": {
   "codemirror_mode": {
    "name": "ipython",
    "version": 3
   },
   "file_extension": ".py",
   "mimetype": "text/x-python",
   "name": "python",
   "nbconvert_exporter": "python",
   "pygments_lexer": "ipython3",
   "version": "3.8.5"
  }
 },
 "nbformat": 4,
 "nbformat_minor": 4
}
