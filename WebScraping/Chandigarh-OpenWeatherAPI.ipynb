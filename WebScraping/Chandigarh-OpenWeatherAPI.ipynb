{
 "cells": [
  {
   "cell_type": "code",
   "execution_count": 1,
   "metadata": {},
   "outputs": [],
   "source": [
    "import requests"
   ]
  },
  {
   "cell_type": "code",
   "execution_count": 4,
   "metadata": {},
   "outputs": [
    {
     "name": "stdout",
     "output_type": "stream",
     "text": [
      "Chandigarh\n",
      "3f9992990a15f8456ca590460b4c32c9\n"
     ]
    }
   ],
   "source": [
    "parameters={\n",
    "    \"Location\":input(),\n",
    "    \"Key\":input()\n",
    "}"
   ]
  },
  {
   "cell_type": "code",
   "execution_count": 6,
   "metadata": {},
   "outputs": [],
   "source": [
    "url='http://api.openweathermap.org/data/2.5/weather?q={}&appid={}'.format(parameters[\"Location\"],parameters[\"Key\"])"
   ]
  },
  {
   "cell_type": "code",
   "execution_count": 7,
   "metadata": {},
   "outputs": [],
   "source": [
    "respone=requests.get(url)"
   ]
  },
  {
   "cell_type": "code",
   "execution_count": 10,
   "metadata": {},
   "outputs": [],
   "source": [
    "response_bytes=respone.content"
   ]
  },
  {
   "cell_type": "code",
   "execution_count": 13,
   "metadata": {},
   "outputs": [],
   "source": [
    "response_string=response_bytes.decode(\"UTF-8\")"
   ]
  },
  {
   "cell_type": "code",
   "execution_count": 16,
   "metadata": {},
   "outputs": [],
   "source": [
    "import json"
   ]
  },
  {
   "cell_type": "code",
   "execution_count": 19,
   "metadata": {},
   "outputs": [],
   "source": [
    "response_json=json.loads(response_string)"
   ]
  },
  {
   "cell_type": "code",
   "execution_count": 31,
   "metadata": {},
   "outputs": [
    {
     "data": {
      "text/plain": [
       "{'coord': {'lon': 76.7933, 'lat': 30.7343},\n",
       " 'weather': [{'id': 800,\n",
       "   'main': 'Clear',\n",
       "   'description': 'clear sky',\n",
       "   'icon': '01d'}],\n",
       " 'base': 'stations',\n",
       " 'main': {'temp': 293.06,\n",
       "  'feels_like': 290.8,\n",
       "  'temp_min': 293.06,\n",
       "  'temp_max': 293.06,\n",
       "  'pressure': 1012,\n",
       "  'humidity': 36,\n",
       "  'sea_level': 1012,\n",
       "  'grnd_level': 972},\n",
       " 'visibility': 10000,\n",
       " 'wind': {'speed': 1.45, 'deg': 207},\n",
       " 'clouds': {'all': 0},\n",
       " 'dt': 1610699486,\n",
       " 'sys': {'country': 'IN', 'sunrise': 1610675451, 'sunset': 1610712787},\n",
       " 'timezone': 19800,\n",
       " 'id': 1274746,\n",
       " 'name': 'Chandigarh',\n",
       " 'cod': 200}"
      ]
     },
     "execution_count": 31,
     "metadata": {},
     "output_type": "execute_result"
    }
   ],
   "source": [
    "response_json"
   ]
  },
  {
   "cell_type": "code",
   "execution_count": null,
   "metadata": {},
   "outputs": [],
   "source": []
  }
 ],
 "metadata": {
  "kernelspec": {
   "display_name": "Python 3",
   "language": "python",
   "name": "python3"
  },
  "language_info": {
   "codemirror_mode": {
    "name": "ipython",
    "version": 3
   },
   "file_extension": ".py",
   "mimetype": "text/x-python",
   "name": "python",
   "nbconvert_exporter": "python",
   "pygments_lexer": "ipython3",
   "version": "3.8.5"
  }
 },
 "nbformat": 4,
 "nbformat_minor": 4
}
